{
 "cells": [
  {
   "cell_type": "code",
   "execution_count": 6,
   "id": "bc7d3d21",
   "metadata": {},
   "outputs": [
    {
     "name": "stdout",
     "output_type": "stream",
     "text": [
      "The rpy2.ipython extension is already loaded. To reload it, use:\n",
      "  %reload_ext rpy2.ipython\n",
      "The autoreload extension is already loaded. To reload it, use:\n",
      "  %reload_ext autoreload\n"
     ]
    }
   ],
   "source": [
    "%load_ext rpy2.ipython\n",
    "%load_ext autoreload\n",
    "%autoreload 2\n",
    "\n",
    "%matplotlib inline  \n",
    "from matplotlib import rcParams\n",
    "rcParams['figure.figsize'] = (16, 100)\n",
    "\n",
    "import warnings\n",
    "from rpy2.rinterface import RRuntimeWarning\n",
    "warnings.filterwarnings(\"ignore\") # Ignore all warnings\n",
    "# warnings.filterwarnings(\"ignore\", category=RRuntimeWarning) # Show some warnings\n",
    "\n",
    "import pandas as pd\n",
    "import numpy as np\n",
    "import matplotlib.pyplot as plt\n",
    "from IPython.display import display, HTML"
   ]
  },
  {
   "cell_type": "code",
   "execution_count": 7,
   "id": "5e012516",
   "metadata": {},
   "outputs": [
    {
     "data": {
      "application/javascript": [
       "// Disable auto-scrolling\n",
       "IPython.OutputArea.prototype._should_scroll = function(lines) {\n",
       "    return false;\n",
       "}\n"
      ],
      "text/plain": [
       "<IPython.core.display.Javascript object>"
      ]
     },
     "metadata": {},
     "output_type": "display_data"
    }
   ],
   "source": [
    "%%javascript\n",
    "// Disable auto-scrolling\n",
    "IPython.OutputArea.prototype._should_scroll = function(lines) {\n",
    "    return false;\n",
    "}"
   ]
  },
  {
   "cell_type": "code",
   "execution_count": 8,
   "id": "79d278cc",
   "metadata": {},
   "outputs": [
    {
     "data": {
      "text/plain": [
       "Loading required package: tidyverse\n",
       "In addition: Warning message:\n",
       "In library(package, lib.loc = lib.loc, character.only = TRUE, logical.return = TRUE,  :\n",
       "  there is no package called ‘tidyverse’\n"
      ]
     },
     "metadata": {},
     "output_type": "display_data"
    }
   ],
   "source": [
    "%%R\n",
    "\n",
    "# My commonly used R imports\n",
    "\n",
    "require('tidyverse')"
   ]
  },
  {
   "cell_type": "code",
   "execution_count": 9,
   "id": "fcda7e8c",
   "metadata": {},
   "outputs": [
    {
     "name": "stdout",
     "output_type": "stream",
     "text": [
      "Collecting tidyverse\n",
      "  Downloading tidyverse-0.1.0-py3-none-any.whl (1.1 kB)\n",
      "Collecting plotnine<0.11.0,>=0.10.1 (from tidyverse)\n",
      "  Downloading plotnine-0.10.1-py3-none-any.whl (1.2 MB)\n",
      "\u001b[2K     \u001b[90m━━━━━━━━━━━━━━━━━━━━━━━━━━━━━━━━━━━━━━━━\u001b[0m \u001b[32m1.2/1.2 MB\u001b[0m \u001b[31m14.0 MB/s\u001b[0m eta \u001b[36m0:00:00\u001b[0m00:01\u001b[0m00:01\u001b[0m\n",
      "\u001b[?25hCollecting siuba<0.4.0,>=0.3.0 (from tidyverse)\n",
      "  Downloading siuba-0.3.0-py3-none-any.whl (142 kB)\n",
      "\u001b[2K     \u001b[90m━━━━━━━━━━━━━━━━━━━━━━━━━━━━━━━━━━━━━━\u001b[0m \u001b[32m142.1/142.1 kB\u001b[0m \u001b[31m13.3 MB/s\u001b[0m eta \u001b[36m0:00:00\u001b[0m\n",
      "\u001b[?25hRequirement already satisfied: matplotlib>=3.5.0 in /Users/seulgijung/.pyenv/versions/3.10.11/lib/python3.10/site-packages (from plotnine<0.11.0,>=0.10.1->tidyverse) (3.7.1)\n",
      "Collecting mizani>=0.8.1 (from plotnine<0.11.0,>=0.10.1->tidyverse)\n",
      "  Obtaining dependency information for mizani>=0.8.1 from https://files.pythonhosted.org/packages/a2/cd/b9a59133236a3a0554a9197c7951e61d78a69e906ae377ece19c0070cf81/mizani-0.9.2-py3-none-any.whl.metadata\n",
      "  Downloading mizani-0.9.2-py3-none-any.whl.metadata (4.6 kB)\n",
      "Requirement already satisfied: numpy>=1.19.0 in /Users/seulgijung/.pyenv/versions/3.10.11/lib/python3.10/site-packages (from plotnine<0.11.0,>=0.10.1->tidyverse) (1.24.3)\n",
      "Requirement already satisfied: pandas>=1.3.5 in /Users/seulgijung/.pyenv/versions/3.10.11/lib/python3.10/site-packages (from plotnine<0.11.0,>=0.10.1->tidyverse) (2.0.2)\n",
      "Collecting patsy>=0.5.1 (from plotnine<0.11.0,>=0.10.1->tidyverse)\n",
      "  Downloading patsy-0.5.3-py2.py3-none-any.whl (233 kB)\n",
      "\u001b[2K     \u001b[90m━━━━━━━━━━━━━━━━━━━━━━━━━━━━━━━━━━━━━━\u001b[0m \u001b[32m233.8/233.8 kB\u001b[0m \u001b[31m15.8 MB/s\u001b[0m eta \u001b[36m0:00:00\u001b[0m\n",
      "\u001b[?25hCollecting scipy>=1.5.0 (from plotnine<0.11.0,>=0.10.1->tidyverse)\n",
      "  Obtaining dependency information for scipy>=1.5.0 from https://files.pythonhosted.org/packages/69/9d/c6877258056c94027cae871fb5bc220edbaab5be2d6f6bc7e6081164b038/scipy-1.11.1-cp310-cp310-macosx_12_0_arm64.whl.metadata\n",
      "  Downloading scipy-1.11.1-cp310-cp310-macosx_12_0_arm64.whl.metadata (54 kB)\n",
      "\u001b[2K     \u001b[90m━━━━━━━━━━━━━━━━━━━━━━━━━━━━━━━━━━━━━━━━\u001b[0m \u001b[32m54.1/54.1 kB\u001b[0m \u001b[31m9.2 MB/s\u001b[0m eta \u001b[36m0:00:00\u001b[0m\n",
      "\u001b[?25hCollecting statsmodels>=0.13.2 (from plotnine<0.11.0,>=0.10.1->tidyverse)\n",
      "  Downloading statsmodels-0.14.0-cp310-cp310-macosx_11_0_arm64.whl (9.4 MB)\n",
      "\u001b[2K     \u001b[90m━━━━━━━━━━━━━━━━━━━━━━━━━━━━━━━━━━━━━━━━\u001b[0m \u001b[32m9.4/9.4 MB\u001b[0m \u001b[31m17.7 MB/s\u001b[0m eta \u001b[36m0:00:00\u001b[0m00:01\u001b[0m00:01\u001b[0m\n",
      "\u001b[?25hCollecting SQLAlchemy>=1.2.19 (from siuba<0.4.0,>=0.3.0->tidyverse)\n",
      "  Obtaining dependency information for SQLAlchemy>=1.2.19 from https://files.pythonhosted.org/packages/56/f9/55ced64ceaceb40d3df6c0ba38094bd10f47e31b354f4e7bc90503b17c99/SQLAlchemy-2.0.19-cp310-cp310-macosx_11_0_arm64.whl.metadata\n",
      "  Downloading SQLAlchemy-2.0.19-cp310-cp310-macosx_11_0_arm64.whl.metadata (9.4 kB)\n",
      "Requirement already satisfied: PyYAML>=3.0.0 in /Users/seulgijung/.pyenv/versions/3.10.11/lib/python3.10/site-packages (from siuba<0.4.0,>=0.3.0->tidyverse) (6.0)\n",
      "Requirement already satisfied: contourpy>=1.0.1 in /Users/seulgijung/.pyenv/versions/3.10.11/lib/python3.10/site-packages (from matplotlib>=3.5.0->plotnine<0.11.0,>=0.10.1->tidyverse) (1.1.0)\n",
      "Requirement already satisfied: cycler>=0.10 in /Users/seulgijung/.pyenv/versions/3.10.11/lib/python3.10/site-packages (from matplotlib>=3.5.0->plotnine<0.11.0,>=0.10.1->tidyverse) (0.11.0)\n",
      "Requirement already satisfied: fonttools>=4.22.0 in /Users/seulgijung/.pyenv/versions/3.10.11/lib/python3.10/site-packages (from matplotlib>=3.5.0->plotnine<0.11.0,>=0.10.1->tidyverse) (4.40.0)\n",
      "Requirement already satisfied: kiwisolver>=1.0.1 in /Users/seulgijung/.pyenv/versions/3.10.11/lib/python3.10/site-packages (from matplotlib>=3.5.0->plotnine<0.11.0,>=0.10.1->tidyverse) (1.4.4)\n",
      "Requirement already satisfied: packaging>=20.0 in /Users/seulgijung/.pyenv/versions/3.10.11/lib/python3.10/site-packages (from matplotlib>=3.5.0->plotnine<0.11.0,>=0.10.1->tidyverse) (23.1)\n",
      "Requirement already satisfied: pillow>=6.2.0 in /Users/seulgijung/.pyenv/versions/3.10.11/lib/python3.10/site-packages (from matplotlib>=3.5.0->plotnine<0.11.0,>=0.10.1->tidyverse) (9.5.0)\n",
      "Requirement already satisfied: pyparsing>=2.3.1 in /Users/seulgijung/.pyenv/versions/3.10.11/lib/python3.10/site-packages (from matplotlib>=3.5.0->plotnine<0.11.0,>=0.10.1->tidyverse) (3.0.9)\n",
      "Requirement already satisfied: python-dateutil>=2.7 in /Users/seulgijung/.pyenv/versions/3.10.11/lib/python3.10/site-packages (from matplotlib>=3.5.0->plotnine<0.11.0,>=0.10.1->tidyverse) (2.8.2)\n",
      "Requirement already satisfied: pytz>=2020.1 in /Users/seulgijung/.pyenv/versions/3.10.11/lib/python3.10/site-packages (from pandas>=1.3.5->plotnine<0.11.0,>=0.10.1->tidyverse) (2023.3)\n",
      "Requirement already satisfied: tzdata>=2022.1 in /Users/seulgijung/.pyenv/versions/3.10.11/lib/python3.10/site-packages (from pandas>=1.3.5->plotnine<0.11.0,>=0.10.1->tidyverse) (2023.3)\n",
      "Requirement already satisfied: six in /Users/seulgijung/.pyenv/versions/3.10.11/lib/python3.10/site-packages (from patsy>=0.5.1->plotnine<0.11.0,>=0.10.1->tidyverse) (1.16.0)\n",
      "Requirement already satisfied: typing-extensions>=4.2.0 in /Users/seulgijung/.pyenv/versions/3.10.11/lib/python3.10/site-packages (from SQLAlchemy>=1.2.19->siuba<0.4.0,>=0.3.0->tidyverse) (4.7.1)\n",
      "Downloading mizani-0.9.2-py3-none-any.whl (73 kB)\n",
      "\u001b[2K   \u001b[90m━━━━━━━━━━━━━━━━━━━━━━━━━━━━━━━━━━━━━━━━\u001b[0m \u001b[32m73.7/73.7 kB\u001b[0m \u001b[31m8.5 MB/s\u001b[0m eta \u001b[36m0:00:00\u001b[0m\n",
      "\u001b[?25hDownloading scipy-1.11.1-cp310-cp310-macosx_12_0_arm64.whl (29.6 MB)\n",
      "\u001b[2K   \u001b[90m━━━━━━━━━━━━━━━━━━━━━━━━━━━━━━━━━━━━━━━━\u001b[0m \u001b[32m29.6/29.6 MB\u001b[0m \u001b[31m15.6 MB/s\u001b[0m eta \u001b[36m0:00:00\u001b[0m00:01\u001b[0m00:01\u001b[0m\n",
      "\u001b[?25hDownloading SQLAlchemy-2.0.19-cp310-cp310-macosx_11_0_arm64.whl (2.0 MB)\n",
      "\u001b[2K   \u001b[90m━━━━━━━━━━━━━━━━━━━━━━━━━━━━━━━━━━━━━━━━\u001b[0m \u001b[32m2.0/2.0 MB\u001b[0m \u001b[31m17.9 MB/s\u001b[0m eta \u001b[36m0:00:00\u001b[0ma \u001b[36m0:00:01\u001b[0m\n",
      "\u001b[?25hInstalling collected packages: SQLAlchemy, scipy, patsy, statsmodels, siuba, mizani, plotnine, tidyverse\n",
      "Successfully installed SQLAlchemy-2.0.19 mizani-0.9.2 patsy-0.5.3 plotnine-0.10.1 scipy-1.11.1 siuba-0.3.0 statsmodels-0.14.0 tidyverse-0.1.0\n"
     ]
    }
   ],
   "source": [
    "#!pip install tidyverse"
   ]
  },
  {
   "cell_type": "code",
   "execution_count": 10,
   "id": "3ce6a897",
   "metadata": {},
   "outputs": [
    {
     "data": {
      "text/plain": [
       "Loading required package: tidyverse\n",
       "In addition: Warning message:\n",
       "In library(package, lib.loc = lib.loc, character.only = TRUE, logical.return = TRUE,  :\n",
       "  there is no package called ‘tidyverse’\n"
      ]
     },
     "metadata": {},
     "output_type": "display_data"
    }
   ],
   "source": [
    "%%R\n",
    "\n",
    "# My commonly used R imports\n",
    "\n",
    "require('tidyverse')"
   ]
  },
  {
   "cell_type": "code",
   "execution_count": null,
   "id": "e3493d31",
   "metadata": {},
   "outputs": [],
   "source": []
  }
 ],
 "metadata": {
  "kernelspec": {
   "display_name": "Python 3 (ipykernel)",
   "language": "python",
   "name": "python3"
  },
  "language_info": {
   "codemirror_mode": {
    "name": "ipython",
    "version": 3
   },
   "file_extension": ".py",
   "mimetype": "text/x-python",
   "name": "python",
   "nbconvert_exporter": "python",
   "pygments_lexer": "ipython3",
   "version": "3.10.11"
  }
 },
 "nbformat": 4,
 "nbformat_minor": 5
}
